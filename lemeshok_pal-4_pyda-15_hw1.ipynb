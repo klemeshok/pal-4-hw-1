{
 "cells": [
  {
   "cell_type": "markdown",
   "metadata": {},
   "source": [
    "<div style=\"text-align: center\"> <H2> Домашнее задание №1 </H2></div>\n",
    "<div style='text-align: center'> <H4> по курсу PYDA-15 - Python для анализа данных </H4></div>\n",
    "</div>\n",
    "<p>\n",
    "<div style=\"text-align: right\"> Выполнил: студент группы PAL-4 Константин Лемешок </div>\n",
    "\n",
    "---"
   ]
  },
  {
   "cell_type": "markdown",
   "metadata": {},
   "source": [
    "#### Задание 1\n",
    "<div class=\"alert alert-block alert-success\">\n",
    "Даны 2 переменных, в которых хранятся строки произвольной длины: phrase_1 и phrase_2.\n",
    "Напишите код, который проверяет какая из этих строк длиннее.\n",
    "</div>\n",
    "\n",
    "---"
   ]
  },
  {
   "cell_type": "code",
   "execution_count": null,
   "metadata": {},
   "outputs": [],
   "source": [
    "phrase_1 = input('Введите первую фразу: ')\n",
    "phrase_2 = input('Введите вторую фразу: ')\n",
    "if len(phrase_1) > len(phrase_2):\n",
    "    print('Первая фраза длиннее второй')\n",
    "elif len(phrase_1) < len(phrase_2):\n",
    "    print('Вторая фраза длиннее первой')\n",
    "else:\n",
    "    print('Первая и вторая фразы равной длины')"
   ]
  },
  {
   "cell_type": "markdown",
   "metadata": {},
   "source": [
    "---"
   ]
  },
  {
   "cell_type": "markdown",
   "metadata": {},
   "source": [
    "#### Задание 2\n",
    "<div class=\"alert alert-block alert-success\">\n",
    "Дана переменная, в которой хранится четырехзначное число (год). Необходимо написать программу, которая выведет, является ли данный год високосным или обычным.\n",
    "</div>\n",
    "\n",
    "---"
   ]
  },
  {
   "cell_type": "code",
   "execution_count": null,
   "metadata": {},
   "outputs": [],
   "source": [
    "year = int(input('Введите год: '))\n",
    "if year % 4 == 0 and year % 100 != 0 or year % 400 == 0:\n",
    "    print ('Год является високосным')\n",
    "else:\n",
    "    print ('%d-й год не является високосным' %year)"
   ]
  },
  {
   "cell_type": "markdown",
   "metadata": {},
   "source": [
    "---"
   ]
  },
  {
   "cell_type": "markdown",
   "metadata": {},
   "source": [
    "#### Задание 3\n",
    "<div class=\"alert alert-block alert-success\">\n",
    "Необходимо написать программу, которая будет запрашивать у пользователя месяц и дату рождения и выводить соответствующий знак зодиака.\n",
    "</div>\n",
    "\n",
    "---"
   ]
  },
  {
   "cell_type": "code",
   "execution_count": null,
   "metadata": {},
   "outputs": [],
   "source": [
    "bmonth = input('Введите месяц вашего рождения на русском языке со строчной буквы: ')\n",
    "bday = int(input('Введите дату вашего рождения: '))\n",
    "if (bmonth == \"март\" and 21 <= bday <= 31) or (bmonth == \"апрель\" and 1 <= bday <= 19):\n",
    "    print('Вы Овен')\n",
    "elif (bmonth == \"апрель\" and 20 <= bday <= 30) or (bmonth == \"май\" and 1 <= bday <= 20):\n",
    "    print('Вы Телец')\n",
    "elif (bmonth == \"май\" and 21 <= bday <= 31) or (bmonth == \"июнь\" and 1 <= bday <= 20):\n",
    "    print('Вы Близнецы')\n",
    "elif (bmonth == \"июнь\" and 21 <= bday <= 30) or (bmonth == \"июль\" and 1 <= bday <= 22):\n",
    "    print('Вы Рак')\n",
    "elif (bmonth == \"июль\" and 23 <= bday <= 31) or (bmonth == \"август\" and 1 <= bday <= 22):\n",
    "    print('Вы Лев')\n",
    "elif (bmonth == \"август\" and 23 <= bday <= 31) or (bmonth == \"сентябрь\" and 1 <= bday <= 22):\n",
    "    print('Вы Дева')\n",
    "elif (bmonth == \"сентябрь\" and 23 <= bday <= 30) or (bmonth == \"октябрь\" and 1 <= bday <= 22):\n",
    "    print('Вы Весы')\n",
    "elif (bmonth == \"октябрь\" and 23 <= bday <= 31) or (bmonth == \"ноябрь\" and 1 <= bday <= 21):\n",
    "    print('Вы Скорпион')\n",
    "elif (bmonth == \"ноябрь\" and 22 <= bday <= 30) or (bmonth == \"декабрь\" and 1 <= bday <= 21):\n",
    "    print('Вы Стрелец')\n",
    "elif (bmonth == \"декабрь\" and 22 <= bday <= 31) or (bmonth == \"январь\" and 1 <= bday <= 19):\n",
    "    print('Вы Козерог')\n",
    "elif (bmonth == \"январь\" and 20 <= bday <= 31) or (bmonth == \"февраль\" and 1 <= bday <= 18):\n",
    "    print('Вы Водолей')\n",
    "elif (bmonth == \"февраль\" and 19 <= bday <= 29) or (bmonth == \"март\" and 1 <= bday <= 20):\n",
    "    print('Вы Рыбы')\n",
    "else:\n",
    "    print('Дата и/или месяц рождения введены неверно')"
   ]
  },
  {
   "cell_type": "markdown",
   "metadata": {},
   "source": [
    "---"
   ]
  },
  {
   "cell_type": "markdown",
   "metadata": {},
   "source": [
    "#### Задание 4\n",
    "<div class=\"alert alert-block alert-success\">\n",
    "Вам нужно написать программу для подбора упаковок по размерам товара. Размеры хранятся в переменных lenght, width, height (в сантиметрах).\n",
    "\n",
    "Используйте следующие правила:\n",
    "\n",
    "1. если каждое из трех измерений менее 15 сантиметров, то выведите на экран “Коробка №1”;\n",
    "2. если хотя бы одно из измерений больше 15 сантиметров, но менее 50 сантиметров, то выводите “Коробка №2”;\n",
    "3. если длина товара больше 2 метров, то выводите “Упаковка для лыж”;\n",
    "4. во всех остальных случаях выводите “Стандартная коробка №3”.\n",
    "    \n",
    "<b style=\"color: red\"> Примечания:</b>\n",
    "1. Результат выполнения кода будет зависеть от последовательности изложения правил в нем. Например, когда length=210, width=45, height=23: если сначала проверить длину (правило 3), то результатом будет \"Упаковка для лыж\". А если сначала проверить все три измерения согласно правилу 2, то результатом будет \"Коробка №2\". В предлагаемом ниже решении последовательность выполнения вышеуказанных правил следующая: 3-1-2-4.\n",
    "2. В изложенных правилах пропущен случай, когда одно, два или все три измерения равны 15 сантиметрам, а все оставшиеся - меньше 15 сантиметров. В этом случае, по логике, нужно выбирать между коробками №1 и №2, а не №3 (как следует из условий задачи). В предлагаемом ниже решении выбор сделан в пользу коробки №1.\n",
    "\n",
    "</div>\n",
    "\n",
    "---"
   ]
  },
  {
   "cell_type": "code",
   "execution_count": null,
   "metadata": {},
   "outputs": [],
   "source": [
    "length = int(input('Введите длину товара, (см.): '))\n",
    "width = int(input('Введите ширину товара, (см.): '))\n",
    "height = int(input('Введите высоту товара, (см.): '))\n",
    "if length > 200:\n",
    "    print ('Упаковка для лыж')\n",
    "elif 15 < length < 50 or 15 < width < 50 or 15 < height < 50:\n",
    "    print ('Коробка №2')\n",
    "elif 0 < length <= 15 and 0 < width <= 15 and 0 < height <= 15:\n",
    "    print ('Коробка №1')\n",
    "else:\n",
    "    print ('Стандартная коробка №3')"
   ]
  },
  {
   "cell_type": "markdown",
   "metadata": {},
   "source": [
    "---"
   ]
  },
  {
   "cell_type": "markdown",
   "metadata": {},
   "source": [
    "#### Задание 5 (необязательное)\n",
    "<div class=\"alert alert-block alert-success\">\n",
    "Дана переменная, в которой хранится шестизначное число (номер проездного билета). Напишите программу, которая будет определять, является ли данный билет “счастливым”. Билет считается счастливым, если сумма первых трех цифр совпадает с суммой последних трех цифр номера.\n",
    "\n",
    "</div>\n",
    "\n",
    "---"
   ]
  },
  {
   "cell_type": "code",
   "execution_count": null,
   "metadata": {},
   "outputs": [],
   "source": [
    "happyornot = int(input('Пожалуйста, предъявите ваш проездной билет!: '))\n",
    "first3 = happyornot // 1000\n",
    "last3 = happyornot % 1000\n",
    "sumafirst3 = 0\n",
    "sumalast3 = 0\n",
    "while first3 > 0:\n",
    "    digitfirst3 = first3 % 10\n",
    "    sumafirst3 = sumafirst3 + digitfirst3\n",
    "    first3 = first3 // 10\n",
    "while last3 > 0:\n",
    "    digitlast3 = last3 % 10\n",
    "    sumalast3 = sumalast3 + digitlast3\n",
    "    last3 = last3 // 10\n",
    "if sumafirst3 == sumalast3:\n",
    "    print('Да он у вас счастливый! Сумма первых и последних трех цифр одинаковая и равняется %d!' %sumalast3)\n",
    "else:\n",
    "    print('Спасибо, ваш билет в порядке')"
   ]
  },
  {
   "cell_type": "markdown",
   "metadata": {},
   "source": [
    "---"
   ]
  },
  {
   "cell_type": "markdown",
   "metadata": {},
   "source": [
    "#### Задание 6 (необязательное)\n",
    "<div class=\"alert alert-block alert-success\">\n",
    "Напишите программу, которая сможет вычислять площади трех фигур (круг, треугольник и прямоугольник). Тип фигуры запрашиваем через пользовательский ввод, после чего делаем запрос характеристик фигуры:\n",
    "\n",
    "* если пользователь выбрал круг, запрашиваем его радиус,\n",
    "* если треугольник – длины трех его сторон;\n",
    "* если прямоугольник – длины двух его сторон.\n",
    "\n",
    "</div>\n",
    "\n",
    "---"
   ]
  },
  {
   "cell_type": "code",
   "execution_count": null,
   "metadata": {},
   "outputs": [],
   "source": [
    "import math\n",
    "type = input('Введите строчными буквами тип фигуры - круг, треугольник или прямоугольник: ')\n",
    "if type == 'круг':\n",
    "    r = int(input('Введите радиус круга: '))\n",
    "    print ('Площадь круга равна:', 3.1415 * r ** 2)\n",
    "elif type == 'треугольник':\n",
    "    side_t1 = int(input('Введите длину стороны 1: '))\n",
    "    side_t2 = int(input('Введите длину стороны 2: '))\n",
    "    side_t3 = int(input('Введите длину стороны 3: '))\n",
    "    p = (side_t1 + side_t2 + side_t3) / 2\n",
    "    print ('Площадь треугольника равна:', math.sqrt(p * (p - side_t1) * (p - side_t2) * (p - side_t3)))\n",
    "elif type == 'прямоугольник':\n",
    "    side_rect1 = int(input('Введите длину стороны 1: '))\n",
    "    side_rect2 = int(input('Введите длину стороны 2: '))\n",
    "    print ('Площадь прямоугольника равна:', side_rect1 * side_rect2)\n",
    "else:\n",
    "    print ('Тип фигуры задан неверно')"
   ]
  }
 ],
 "metadata": {
  "kernelspec": {
   "display_name": "Python 3",
   "language": "python",
   "name": "python3"
  },
  "language_info": {
   "codemirror_mode": {
    "name": "ipython",
    "version": 3
   },
   "file_extension": ".py",
   "mimetype": "text/x-python",
   "name": "python",
   "nbconvert_exporter": "python",
   "pygments_lexer": "ipython3",
   "version": "3.8.3"
  }
 },
 "nbformat": 4,
 "nbformat_minor": 4
}
